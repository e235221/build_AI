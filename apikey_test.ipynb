{
 "cells": [
  {
   "cell_type": "code",
   "execution_count": 4,
   "id": "0afb5812-c472-4192-bb89-0b3eed9618b6",
   "metadata": {},
   "outputs": [],
   "source": [
    "# アプリケーションの開発\n",
    "\n",
    "# watsonx 経由でモデルにアクセス\n",
    "import os\n",
    "from getpass import getpass\n",
    "\n",
    "watsonx_api_key = getpass()\n",
    "# watsonAPI_key\n",
    "os.environ[\"0i-_-6pigerNnnRaU8_oiybRZz_UxMQuBHpE_copxSdw\"] = watsonx_api_key\n"
   ]
  },
  {
   "cell_type": "code",
   "execution_count": 5,
   "id": "c9cce087-65b9-46b1-ae76-a7b39ff31c9c",
   "metadata": {},
   "outputs": [],
   "source": [
    "watsonx_project_id = getpass()\n",
    "# projectAPI_key\n",
    "os.environ[\"b596c884-f867-4771-afcc-f9fd10dae1a4\"] = watsonx_project_id"
   ]
  },
  {
   "cell_type": "code",
   "execution_count": 6,
   "id": "c7d19209-c6c5-47d7-b75c-5601e5c4290c",
   "metadata": {},
   "outputs": [
    {
     "ename": "ModuleNotFoundError",
     "evalue": "No module named 'llama_index'",
     "output_type": "error",
     "traceback": [
      "\u001b[31m---------------------------------------------------------------------------\u001b[39m",
      "\u001b[31mModuleNotFoundError\u001b[39m                       Traceback (most recent call last)",
      "\u001b[36mCell\u001b[39m\u001b[36m \u001b[39m\u001b[32mIn[6]\u001b[39m\u001b[32m, line 2\u001b[39m\n\u001b[32m      1\u001b[39m \u001b[38;5;66;03m# \u001b[39;00m\n\u001b[32m----> \u001b[39m\u001b[32m2\u001b[39m \u001b[38;5;28;01mfrom\u001b[39;00m\u001b[38;5;250m \u001b[39m\u001b[34;01mllama_index\u001b[39;00m\u001b[34;01m.\u001b[39;00m\u001b[34;01mllms\u001b[39;00m\u001b[34;01m.\u001b[39;00m\u001b[34;01mibm\u001b[39;00m\u001b[38;5;250m \u001b[39m\u001b[38;5;28;01mimport\u001b[39;00m WatsonxLLM\n\u001b[32m      3\u001b[39m \u001b[38;5;28;01mfrom\u001b[39;00m\u001b[38;5;250m \u001b[39m\u001b[34;01mibm_watsonx_ai\u001b[39;00m\u001b[34;01m.\u001b[39;00m\u001b[34;01mmetanames\u001b[39;00m\u001b[38;5;250m \u001b[39m\u001b[38;5;28;01mimport\u001b[39;00m GenTextParamsMetaNames\n\u001b[32m      4\u001b[39m rag_gen_parameters = {\n\u001b[32m      5\u001b[39m GenTextParamsMetaNames.DECODING_METHOD: \u001b[33m\"\u001b[39m\u001b[33msample\u001b[39m\u001b[33m\"\u001b[39m,\n\u001b[32m      6\u001b[39m GenTextParamsMetaNames.MIN_NEW_TOKENS: \u001b[32m150\u001b[39m,\n\u001b[32m   (...)\u001b[39m\u001b[32m      9\u001b[39m GenTextParamsMetaNames.TOP_P: \u001b[32m0.7\u001b[39m\n\u001b[32m     10\u001b[39m     }\n",
      "\u001b[31mModuleNotFoundError\u001b[39m: No module named 'llama_index'"
     ]
    }
   ],
   "source": [
    "# \n",
    "from llama_index.llms.ibm import WatsonxLLM\n",
    "from ibm_watsonx_ai.metanames import GenTextParamsMetaNames\n",
    "rag_gen_parameters = {\n",
    "GenTextParamsMetaNames.DECODING_METHOD: \"sample\",\n",
    "GenTextParamsMetaNames.MIN_NEW_TOKENS: 150,\n",
    "GenTextParamsMetaNames.TEMPERATURE: 0.5,\n",
    "GenTextParamsMetaNames.TOP_K: 5,\n",
    "GenTextParamsMetaNames.TOP_P: 0.7\n",
    "    }\n",
    "watsonx_llm = WatsonxLLM(\n",
    "    model_id=\"ibm/granite-3 -8b -instruct\",\n",
    "    url=\"https://us-south.ml.cloud.ibm.com\",\n",
    "    project_id=os.getenv(\"WATSONX_PROJECT_ID\"),\n",
    "    max_new_tokens=512,\n",
    "    params=rag_gen_parameters,\n",
    ")"
   ]
  },
  {
   "cell_type": "code",
   "execution_count": null,
   "id": "ce9f5d1a-fab6-4769-b97f-ac17be8eb09c",
   "metadata": {},
   "outputs": [],
   "source": [
    "import asyncio, nest_asyncio\n",
    "nest_asyncio.apply()\n",
    "loop = asyncio.get_event_loop()"
   ]
  }
 ],
 "metadata": {
  "kernelspec": {
   "display_name": "Python (info3dm)",
   "language": "python",
   "name": "info3dm"
  },
  "language_info": {
   "codemirror_mode": {
    "name": "ipython",
    "version": 3
   },
   "file_extension": ".py",
   "mimetype": "text/x-python",
   "name": "python",
   "nbconvert_exporter": "python",
   "pygments_lexer": "ipython3",
   "version": "3.9.6"
  }
 },
 "nbformat": 4,
 "nbformat_minor": 5
}
