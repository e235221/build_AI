{
 "cells": [
  {
   "cell_type": "code",
   "execution_count": 8,
   "id": "550f9648-00ec-4105-8408-e55f32b986c9",
   "metadata": {},
   "outputs": [],
   "source": [
    "import os\n",
    "from getpass import getpass\n",
    "\n",
    "watsonx_api_key = \"0i-_-6pigerNnnRaU8_oiybRZz_UxMQuBHpE_copxSdw\"\n",
    "os.environ[\"WATSONX_APIKEY\"] = watsonx_api_key\n",
    "\n",
    "watsonx_project_id = \"b596c884-f867-4771-afcc-f9fd10dae1a4\"\n",
    "os.environ[\"WATSONX_PROJECT_ID\"] = watsonx_project_id\n"
   ]
  },
  {
   "cell_type": "code",
   "execution_count": 9,
   "id": "c4f831ac-3f44-4f71-9d51-387f0977136d",
   "metadata": {},
   "outputs": [],
   "source": [
    "from llama_index.llms.ibm import WatsonxLLM\n",
    "from ibm_watsonx_ai.metanames import GenTextParamsMetaNames\n",
    "rag_gen_parameters = {\n",
    "GenTextParamsMetaNames.DECODING_METHOD: \"sample\",\n",
    "GenTextParamsMetaNames.MIN_NEW_TOKENS: 150,\n",
    "GenTextParamsMetaNames.TEMPERATURE: 0.5,\n",
    "GenTextParamsMetaNames.TOP_K: 5,\n",
    "GenTextParamsMetaNames.TOP_P: 0.7\n",
    "}"
   ]
  },
  {
   "cell_type": "code",
   "execution_count": 10,
   "id": "9644f261-d362-46be-95d7-641afd6110da",
   "metadata": {},
   "outputs": [
    {
     "name": "stderr",
     "output_type": "stream",
     "text": [
      "2025-09-09 16:30:37,837 - INFO - Client successfully initialized\n",
      "2025-09-09 16:30:38,718 - INFO - HTTP Request: GET https://us-south.ml.cloud.ibm.com/ml/v1/foundation_model_specs?version=2025-08-27&project_id=b596c884-f867-4771-afcc-f9fd10dae1a4&filters=function_text_generation%2C%21lifecycle_withdrawn%3Aand&limit=200 \"HTTP/1.1 200 OK\"\n",
      "2025-09-09 16:30:38,755 - INFO - Successfully finished Get available foundation models for url: 'https://us-south.ml.cloud.ibm.com/ml/v1/foundation_model_specs?version=2025-08-27&project_id=b596c884-f867-4771-afcc-f9fd10dae1a4&filters=function_text_generation%2C%21lifecycle_withdrawn%3Aand&limit=200'\n"
     ]
    }
   ],
   "source": [
    "watsonx_llm = WatsonxLLM(\n",
    "    model_id=\"ibm/granite-3-2-8b-instruct\",\n",
    "    url=\"https://us-south.ml.cloud.ibm.com\",\n",
    "    project_id=os.getenv(\"WATSONX_PROJECT_ID\"),\n",
    "    max_new_tokens=512,\n",
    "    params=rag_gen_parameters,\n",
    ")"
   ]
  },
  {
   "cell_type": "code",
   "execution_count": 11,
   "id": "4e4ee55d-e93b-40bd-b2a9-62d6e432698f",
   "metadata": {},
   "outputs": [
    {
     "name": "stderr",
     "output_type": "stream",
     "text": [
      "2025-09-09 16:30:38,778 - INFO - Load pretrained SentenceTransformer: BAAI/bge-small-en-v1.5\n",
      "2025-09-09 16:30:42,352 - INFO - 1 prompt is loaded, with the key: query\n"
     ]
    }
   ],
   "source": [
    "from llama_index.embeddings.huggingface import HuggingFaceEmbedding\n",
    "from llama_index.core import Settings\n",
    "Settings.embed_model = HuggingFaceEmbedding(\n",
    " model_name=\"BAAI/bge-small-en-v1.5\"\n",
    ")"
   ]
  },
  {
   "cell_type": "code",
   "execution_count": 12,
   "id": "959e6e8a-d4b8-46ff-a7d0-162543428292",
   "metadata": {},
   "outputs": [],
   "source": [
    "from llama_index.readers.file import PyMuPDFReader\n",
    "loader = PyMuPDFReader()\n",
    "pdf_doc = loader.load(file_path=\"./docs/housetomato.pdf\")"
   ]
  },
  {
   "cell_type": "code",
   "execution_count": 13,
   "id": "baf97810-ef89-4c91-94a0-93415acefa9c",
   "metadata": {},
   "outputs": [],
   "source": [
    "from llama_index.core import VectorStoreIndex\n",
    "from llama_index.core.node_parser import SentenceSplitter\n",
    "splitter = SentenceSplitter(chunk_size=1024)\n",
    "index = VectorStoreIndex.from_documents(\n",
    " pdf_doc, transformations=[splitter], embed_model=Settings.embed_model\n",
    ")"
   ]
  },
  {
   "cell_type": "code",
   "execution_count": 14,
   "id": "757026cb-f09b-4b52-9150-de0755e3d698",
   "metadata": {},
   "outputs": [
    {
     "ename": "NameError",
     "evalue": "name 'retriever' is not defined",
     "output_type": "error",
     "traceback": [
      "\u001b[31m---------------------------------------------------------------------------\u001b[39m",
      "\u001b[31mNameError\u001b[39m                                 Traceback (most recent call last)",
      "\u001b[36mCell\u001b[39m\u001b[36m \u001b[39m\u001b[32mIn[14]\u001b[39m\u001b[32m, line 2\u001b[39m\n\u001b[32m      1\u001b[39m \u001b[38;5;28;01mfrom\u001b[39;00m\u001b[38;5;250m \u001b[39m\u001b[34;01mllama_index\u001b[39;00m\u001b[34;01m.\u001b[39;00m\u001b[34;01mcore\u001b[39;00m\u001b[34;01m.\u001b[39;00m\u001b[34;01mquery_engine\u001b[39;00m\u001b[38;5;250m \u001b[39m\u001b[38;5;28;01mimport\u001b[39;00m RetrieverQueryEngine\n\u001b[32m----> \u001b[39m\u001b[32m2\u001b[39m query_engine = RetrieverQueryEngine(\u001b[43mretriever\u001b[49m)\n",
      "\u001b[31mNameError\u001b[39m: name 'retriever' is not defined"
     ]
    }
   ],
   "source": [
    "from llama_index.core.query_engine import RetrieverQueryEngine\n",
    "query_engine = RetrieverQueryEngine(retriever)"
   ]
  },
  {
   "cell_type": "code",
   "execution_count": null,
   "id": "72c97c0e-bb30-4d2e-b8d3-c64cff3ced94",
   "metadata": {},
   "outputs": [],
   "source": [
    "query_gen_prompt_str = (\n",
    " \"あなたは、1 つの入力クエリに基づいて複数の検索クエリを生成する有能なアシスタントです。\\n\"\n",
    " \"{num_queries}個の検索クエリを、1 行につき 1 つずつ生成してください。\\n\"\n",
    " \"以下のクエリに関連する検索クエリを生成してください：\\n\\n\"\n",
    " \"クエリ: {query} \\n\"\n",
    " \"検索クエリ: \\n\"\n",
    ")"
   ]
  },
  {
   "cell_type": "code",
   "execution_count": null,
   "id": "a870d355-0758-4451-8de3-55b3e40648a5",
   "metadata": {},
   "outputs": [],
   "source": [
    "from llama_index.core.retrievers import QueryFusionRetriever\n",
    "# this sets the LLM for the rest of the application\n",
    "Settings.llm = watsonx_llm\n",
    "# get retrievers\n",
    "from llama_index.retrievers.bm25 import BM25Retriever\n",
    "## vector retriever\n",
    "vector_retriever = index.as_retriever(similarity_top_k=2)\n",
    "## bm25 retriever\n",
    "bm25_retriever = BM25Retriever.from_defaults(\n",
    " docstore=index.docstore, similarity_top_k=2\n",
    ")\n",
    "retriever = QueryFusionRetriever(\n",
    " [vector_retriever, bm25_retriever],\n",
    " similarity_top_k=4,\n",
    " num_queries=4, # set this to 1 to disable query generation\n",
    " mode=\"reciprocal_rerank\",\n",
    " use_async=False,\n",
    " verbose=False,\n",
    " query_gen_prompt = query_gen_prompt_str # we could override the query generation prompt here\n",
    ")"
   ]
  },
  {
   "cell_type": "code",
   "execution_count": null,
   "id": "47fec0b8-7fe8-484f-85da-e2ab6e1421a3",
   "metadata": {},
   "outputs": [],
   "source": [
    "watsonx_llm = WatsonxLLM(\n",
    " model_id=\"ibm/granite-3-2-8b-instruct\",\n",
    " url=\"https://us-south.ml.cloud.ibm.com\",\n",
    " project_id=os.getenv(\"WATSONX_PROJECT_ID\"),\n",
    " max_new_tokens=512,\n",
    " params=rag_gen_parameters,\n",
    ")"
   ]
  },
  {
   "cell_type": "code",
   "execution_count": null,
   "id": "9c49b988-bfc2-43d3-9216-fdc5f76df54f",
   "metadata": {},
   "outputs": [],
   "source": [
    "import gradio as gr\n",
    "def chat_function(message, history):\n",
    "    try:\n",
    "        response_obj = query_engine.query(message)\n",
    "        response_text = response_obj.response\n",
    "    except Exception as e:\n",
    "        response_text = f\"エラーが発生しました: {e}\"\n",
    "\n",
    "    return response_text\n",
    "demo = gr.ChatInterface(\n",
    "    fn=chat_function,\n",
    "    title=\"トマトマスター\",\n",
    "    theme=\"soft\",\n",
    "    examples=[\n",
    "        \"トマトを家庭で育てるにはどうすればよいですか？\",\n",
    "        \"トマトの栽培に最適な気候や土壌条件は何ですか？\"\n",
    "    ],\n",
    "    type='messages'\n",
    ")\n",
    "demo.launch(inline=True, share=False)"
   ]
  },
  {
   "cell_type": "code",
   "execution_count": null,
   "id": "7f737184-ba4a-4a55-8c5c-4bb33823f9cf",
   "metadata": {},
   "outputs": [],
   "source": []
  }
 ],
 "metadata": {
  "kernelspec": {
   "display_name": "RAG",
   "language": "python",
   "name": "python3"
  },
  "language_info": {
   "codemirror_mode": {
    "name": "ipython",
    "version": 3
   },
   "file_extension": ".py",
   "mimetype": "text/x-python",
   "name": "python",
   "nbconvert_exporter": "python",
   "pygments_lexer": "ipython3",
   "version": "3.12.4"
  }
 },
 "nbformat": 4,
 "nbformat_minor": 5
}
