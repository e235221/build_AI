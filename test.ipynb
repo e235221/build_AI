import os
from getpass import getpass

watsonx_api_key = getpass()
os.environ["WATSONX_API_KEY"] = watsonx_api_key

watsonx_project_id = getpass()
os.environ["WATSONX_PROJECT_ID"] = watsonx_project_id



