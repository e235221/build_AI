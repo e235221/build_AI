{
 "cells": [
  {
   "cell_type": "markdown",
   "id": "ad80557a",
   "metadata": {},
   "source": [
    "### Step 1\n",
    "API KEY: 0i-_-6pigerNnnRaU8_oiybRZz_UxMQuBHpE_copxSdw\n",
    "Project Id: b596c884 -f867 -4771 -afcc-f9fd10dae1a4\n",
    "\n",
    "API キーとプロジェクト ID を使用して、watsonx 経由でモデルにアクセスします。\n",
    "```\n",
    "import os\n",
    "from getpass import getpass\n",
    "watsonx_api_key = getpass()\n",
    "os.environ[\"WATSONX_APIKEY\"] = watsonx_api_key\n",
    "```\n",
    "これにより、watsonx キーの入力を求められます。\n",
    "```\n",
    "watsonx_project_id = getpass()\n",
    "os.environ[\"WATSONX_PROJECT_ID\"] = watsonx_project_id\n",
    "```"
   ]
  },
  {
   "cell_type": "markdown",
   "id": "3ef106e8",
   "metadata": {},
   "source": [
    "### step2. \n",
    "WatsonxLLM は、LlamaIndex が提供する watsonx サービスへのインターフェースとして構成できます。WatsonxLLM オブジェクトは、使用するモデルと、そのモデルが使用すべきプロジェクトを設定します。ここでは、Granite 3 8-billion parameter Instruct モデルを使用します。"
   ]
  },
  {
   "cell_type": "code",
   "execution_count": null,
   "id": "cce1b561",
   "metadata": {
    "vscode": {
     "languageId": "plaintext"
    }
   },
   "outputs": [],
   "source": [
    "from llama_index.llms.ibm import WatsonxLLM\n",
    "from ibm_watsonx_ai.metanames import GenTextParamsMetaNames\n",
    "rag_gen_parameters = {\n",
    "GenTextParamsMetaNames.DECODING_METHOD: \"sample\",\n",
    "GenTextParamsMetaNames.MIN_NEW_TOKENS: 150,\n",
    "GenTextParamsMetaNames.TEMPERATURE: 0.5,\n",
    "GenTextParamsMetaNames.TOP_K: 5,\n",
    "GenTextParamsMetaNames.TOP_P: 0.7\n",
    "}\n",
    "watsonx_llm = WatsonxLLM(\n",
    "model_id=\"ibm/granite-3 -8b -instruct\",\n",
    "url=\"https://us-south.ml.cloud.ibm.com\",\n",
    "project_id=os.getenv(\"WATSONX_PROJECT_ID\"),\n",
    "max_new_tokens=512,\n",
    "params=rag_gen_parameters,\n",
    ")"
   ]
  },
  {
   "cell_type": "markdown",
   "id": "563e1c26",
   "metadata": {},
   "source": [
    "パラメータは、モデルの出力をどのように構成するかを決定します。\n",
    "具体的には以下のような意味を持ちます：\n",
    "• DECODING_METHOD\n",
    "応答を生成する際の単語選択方法を指定します。\n",
    "\"sample\"にすると確率分布に基づきランダム性を持たせた選択を行い、多様\n",
    "な文章を生成します。\n",
    "\"greedy\"の場合は常に最も確率が高い単語を選び、安定した出力になりま\n",
    "す。\n",
    "• MIN_NEW_TOKENS\n",
    "モデルが新たに生成するトークン（単語や記号）の最小数を指定します。\n",
    "ここでは 150 に設定し、応答が短くなりすぎないようにします。\n",
    "• LLM temperature\n",
    "出力のランダム性を制御するパラメータで、0〜1 の範囲を取ります。\n",
    "低くすると（例：0.5）より予測可能で安定した文章になり、高くすると多\n",
    "様性が増します。\n",
    "• top_k\n",
    "各生成ステップで候補とする単語数の上限を指定します。\n",
    "値を小さく（例：5）すると、高確率の単語のみが選ばれ、文章が安定しや\n",
    "すくなります。\n",
    "• top_p\n",
    "累積確率が指定値（例：0.7）以下となる候補単語のみを選択します。\n",
    "これにより、意味的な一貫性を保ちながらも、適度な変動を持つ出力が得\n",
    "られます。\n",
    "API キーを正しく設定すれば、エラーは発生しないはずです"
   ]
  },
  {
   "cell_type": "markdown",
   "id": "ec2a83f1",
   "metadata": {},
   "source": [
    "### Step 3\n",
    "Jupyter ノートブックの中で動く「イベントループ」と、LlamaIndex の RAG 処理で使う「イベントループ」は別々に動いています。\n",
    "このままだと、うまく動かないことがあります。\n",
    "そこで、Python の asyncio というライブラリを使って、自分だけの新しいイベントループを作り、両方が問題なく動くようにします。"
   ]
  },
  {
   "cell_type": "code",
   "execution_count": null,
   "id": "2d8721dc",
   "metadata": {
    "vscode": {
     "languageId": "plaintext"
    }
   },
   "outputs": [],
   "source": [
    "import asyncio, nest_asyncio\n",
    "nest_asyncio.apply()\n",
    "loop = asyncio.get_event_loop()"
   ]
  },
  {
   "cell_type": "markdown",
   "id": "39f1be8e",
   "metadata": {},
   "source": [
    "IBM の年次報告書をダウンロードして保存し、PyMuPDFReader のインスタンスに読み込ませます。これで文書を解析し、ベクトルストアに取り込むための埋め込み（embeddings）を作成できます。"
   ]
  },
  {
   "cell_type": "markdown",
   "id": "17c7a4fb",
   "metadata": {},
   "source": [
    "プロジェクトのルートに「docs」フォルダを作成してください（作成後プロジェクトのルート: プロジェクト名/docs） 。以下のスクリプトは、そのフォルダに PDFファイルをダウンロードします"
   ]
  },
  {
   "cell_type": "code",
   "execution_count": null,
   "id": "9c4ec11c",
   "metadata": {
    "vscode": {
     "languageId": "plaintext"
    }
   },
   "outputs": [],
   "source": [
    "from pathlib import Path\n",
    "from llama_index.readers.file import PyMuPDFReader\n",
    "import requests\n",
    "def load_pdf(url):\n",
    "r = requests.get(url)\n",
    "name = url.rsplit('/', 1)[1]\n",
    "# save to a docs dir\n",
    "with open('docs/' + name, 'wb') as f:\n",
    "f.write(r.content)\n",
    "loader = PyMuPDFReader()\n",
    "return loader.load(file_path=\"./docs/\" + name)\n",
    "pdf_doc =\n",
    "load_pdf(\"https://www.ibm.com/annualreport/assets/downloads/IBM_Annual_Re\n",
    "port_2023.pdf\")"
   ]
  }
 ],
 "metadata": {
  "language_info": {
   "name": "python"
  }
 },
 "nbformat": 4,
 "nbformat_minor": 5
}
